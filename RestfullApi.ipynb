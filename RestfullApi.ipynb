{
 "cells": [
  {
   "cell_type": "code",
   "execution_count": null,
   "id": "298a8c13",
   "metadata": {},
   "outputs": [],
   "source": [
    "# 1. What is a RESTful API?\n",
    "\"\"\"\n",
    "A RESTful API (Representational State Transfer) is an architectural style for designing networked applications. It relies on a stateless, client-server, cacheable communications protocol -- most commonly HTTP. REST defines a set of constraints for how the API should behave, such as using standard HTTP methods (GET, POST, PUT, DELETE), having a uniform interface, and being stateless.\n",
    "\"\"\""
   ]
  },
  {
   "cell_type": "code",
   "execution_count": null,
   "id": "025b01c4",
   "metadata": {},
   "outputs": [],
   "source": [
    "# 2. Explain the concept of API specification.\n",
    "\"\"\"\n",
    "API specification is a document or set of documents that describes the functionality, inputs, outputs, and behavior of an API. It serves as a contract between the API provider and the API consumer, ensuring clarity and facilitating integration. Common formats include OpenAPI (Swagger) and RAML.\n",
    "\"\"\""
   ]
  },
  {
   "cell_type": "code",
   "execution_count": null,
   "id": "d5f9af11",
   "metadata": {},
   "outputs": [],
   "source": [
    "# 3. What is Flask, and why is it popular for building APIs?\n",
    "\"\"\"\n",
    "Flask is a lightweight and flexible micro web framework written in Python. It is popular for building APIs due to its simplicity, extensibility, and minimal core. This allows developers to choose the components they need, making it ideal for creating focused and efficient APIs. Its large community and extensive libraries also contribute to its popularity.\n",
    "\"\"\""
   ]
  },
  {
   "cell_type": "code",
   "execution_count": null,
   "id": "8173da66",
   "metadata": {},
   "outputs": [],
   "source": [
    "# 4. What is routing in Flask?\n",
    "\"\"\"\n",
    "Routing in Flask is the process of mapping URLs (or endpoints) to specific Python functions. When a client makes a request to a particular URL, Flask's routing mechanism determines which function should be executed to handle that request. This is typically done using the `@app.route()` decorator.\n",
    "\"\"\""
   ]
  },
  {
   "cell_type": "code",
   "execution_count": null,
   "id": "5c48ab44",
   "metadata": {},
   "outputs": [],
   "source": [
    "# 5. How do you create a simple Flask application?\n",
    "\"\"\"\n",
    "A simple Flask application involves importing the Flask class, creating an instance of it, defining a route using the `@app.route()` decorator, and running the application.\n",
    "\"\"\"\n",
    "from flask import Flask\n",
    "\n",
    "app = Flask(__name__)\n",
    "\n",
    "@app.route('/')\n",
    "def hello_world():\n",
    "    return 'Hello, World!'\n",
    "\n",
    "if __name__ == '__main__':\n",
    "    app.run(debug=True)"
   ]
  },
  {
   "cell_type": "code",
   "execution_count": null,
   "id": "e8a78223",
   "metadata": {},
   "outputs": [],
   "source": [
    "# 6. What are HTTP methods used in RESTful APIs?\n",
    "\"\"\"\n",
    "RESTful APIs commonly use the following HTTP methods:\n",
    "- GET: Retrieve data from the server.\n",
    "- POST: Submit new data to the server.\n",
    "- PUT: Update existing data on the server.\n",
    "- DELETE: Remove data from the server.\n",
    "- PATCH: Partially update existing data on the server.\n",
    "\"\"\""
   ]
  },
  {
   "cell_type": "code",
   "execution_count": null,
   "id": "78a094d1",
   "metadata": {},
   "outputs": [],
   "source": [
    "# 7. What is the purpose of the `@app.route()` decorator in Flask?\n",
    "\"\"\"\n",
    "The `@app.route()` decorator in Flask is used to bind a URL rule (endpoint) to a Python function. When a request comes in for the specified URL, Flask will execute the decorated function and return its result to the client.\n",
    "\"\"\""
   ]
  },
  {
   "cell_type": "code",
   "execution_count": null,
   "id": "616d359a",
   "metadata": {},
   "outputs": [],
   "source": [
    "# 8. What is the difference between GET and POST HTTP methods?\n",
    "\"\"\"\n",
    "- GET is used to request data from a specified resource. It should not have side effects on the server and is typically used for read operations. Data is often passed in the URL query parameters.\n",
    "- POST is used to submit data to be processed to a specified resource. It is often used for creating new resources and can have side effects on the server. Data is usually sent in the request body.\n",
    "\"\"\""
   ]
  },
  {
   "cell_type": "code",
   "execution_count": null,
   "id": "37d0eea6",
   "metadata": {},
   "outputs": [],
   "source": [
    "# 9. How do you handle errors in Flask?\n",
    "\"\"\"\n",
    "Flask provides several ways to handle errors, including:\n",
    "- Using `abort(code)` to raise an HTTP exception with a specific error code.\n",
    "- Defining custom error handlers using the `@app.errorhandler(code)` decorator to handle specific HTTP error codes.\n",
    "- Using try-except blocks within route functions to catch exceptions.\n",
    "\"\"\"\n",
    "from flask import abort, jsonify\n",
    "\n",
    "@app.errorhandler(404)\n",
    "def not_found(error):\n",
    "    return jsonify({'error': 'Not found'}), 404\n",
    "\n",
    "@app.route('/error')\n",
    "def trigger_error():\n",
    "    abort(404)"
   ]
  },
  {
   "cell_type": "code",
   "execution_count": null,
   "id": "f5128f19",
   "metadata": {},
   "outputs": [],
   "source": [
    "# 10. How do you connect Flask to a SQL database?\n",
    "\"\"\"\n",
    "Flask can be connected to a SQL database using extensions like Flask-SQLAlchemy or by directly using a database connector library (e.g., psycopg2 for PostgreSQL, sqlite3 for SQLite). Flask-SQLAlchemy provides a higher-level ORM (Object-Relational Mapper) for easier database interaction.\n",
    "\"\"\"\n",
    "# Example using Flask-SQLAlchemy (requires installation: pip install Flask-SQLAlchemy)\n",
    "from flask import Flask\n",
    "from flask_sqlalchemy import SQLAlchemy\n",
    "\n",
    "app = Flask(__name__)\n",
    "app.config['SQLALCHEMY_DATABASE_URI'] = 'sqlite:///mydatabase.db'  # Example SQLite URI\n",
    "db = SQLAlchemy(app)\n",
    "\n",
    "class User(db.Model):\n",
    "    id = db.Column(db.Integer, primary_key=True)\n",
    "    username = db.Column(db.String(80), unique=True, nullable=False)\n",
    "    email = db.Column(db.String(120), unique=True, nullable=False)\n",
    "\n",
    "    def __repr__(self):\n",
    "        return f'<User {self.username}>'\n",
    "\n",
    "with app.app_context():\n",
    "    db.create_all()"
   ]
  },
  {
   "cell_type": "code",
   "execution_count": null,
   "id": "5cb3538f",
   "metadata": {},
   "outputs": [],
   "source": [
    "# 11. What is the role of Flask-SQLAlchemy?\n",
    "\"\"\"\n",
    "Flask-SQLAlchemy is a Flask extension that simplifies the integration of SQLAlchemy with Flask applications. It provides tools and abstractions for interacting with databases using SQLAlchemy's ORM capabilities, making database operations more convenient and Pythonic within a Flask application.\n",
    "\"\"\""
   ]
  },
  {
   "cell_type": "code",
   "execution_count": null,
   "id": "e39562b3",
   "metadata": {},
   "outputs": [],
   "source": [
    "# 12. What are Flask blueprints, and how are they useful?\n",
    "\"\"\"\n",
    "Flask blueprints are a way to organize a Flask application into reusable components. They allow you to define routes, templates, static files, and other application logic within a blueprint and then register that blueprint with the main application. This is useful for:\n",
    "- Structuring large applications.\n",
    "- Creating reusable application components.\n",
    "- Organizing code by functionality.\n",
    "\"\"\"\n",
    "# Example of a Blueprint\n",
    "from flask import Blueprint, render_template\n",
    "\n",
    "user_bp = Blueprint('user', __name__, url_prefix='/user')\n",
    "\n",
    "@user_bp.route('/profile/<username>')\n",
    "def profile(username):\n",
    "    return render_template('user/profile.html', username=username)\n",
    "\n",
    "# In the main app:\n",
    "# from your_app import user_bp\n",
    "# app.register_blueprint(user_bp)"
   ]
  },
  {
   "cell_type": "code",
   "execution_count": null,
   "id": "8ff66977",
   "metadata": {},
   "outputs": [],
   "source": [
    "# 13. What is the purpose of Flask's request object?\n",
    "\"\"\"\n",
    "The Flask `request` object provides access to incoming request data, such as form parameters, JSON data, URL parameters, headers, and files. It allows route handlers to access and process the data sent by the client in the HTTP request.\n",
    "\"\"\"\n",
    "from flask import request\n",
    "\n",
    "@app.route('/submit', methods=['POST'])\n",
    "def submit_data():\n",
    "    data = request.form\n",
    "    # Process the form data\n",
    "    return f'Received data: {data}'"
   ]
  },
  {
   "cell_type": "code",
   "execution_count": null,
   "id": "1d04a827",
   "metadata": {},
   "outputs": [],
   "source": [
    "# 14. How do you create a RESTful API endpoint using Flask?\n",
    "\"\"\"\n",
    "Creating a RESTful API endpoint in Flask involves defining a route with the desired URL and HTTP method, and then implementing a function that handles the request and returns a response, often in JSON format.\n",
    "\"\"\"\n",
    "from flask import jsonify\n",
    "\n",
    "@app.route('/api/users/<int:user_id>', methods=['GET'])\n",
    "def get_user(user_id):\n",
    "    # Retrieve user data based on user_id\n",
    "    user = {'id': user_id, 'name': 'John Doe'}\n",
    "    return jsonify(user)"
   ]
  },
  {
   "cell_type": "code",
   "execution_count": null,
   "id": "7bb067cc",
   "metadata": {},
   "outputs": [],
   "source": [
    "# 15. What is the purpose of Flask's `jsonify()` function?\n",
    "\"\"\"\n",
    "The `jsonify()` function in Flask is used to convert Python dictionaries or lists into a JSON (JavaScript Object Notation) response. It automatically sets the `Content-Type` header to `application/json` and serializes the data into a JSON string, which is the standard format for data exchange in many RESTful APIs.\n",
    "\"\"\""
   ]
  },
  {
   "cell_type": "code",
   "execution_count": null,
   "id": "d9f81413",
   "metadata": {},
   "outputs": [],
   "source": [
    "# 16. Explain Flask's `url_for()` function.\n",
    "\"\"\"\n",
    "The `url_for()` function in Flask is used to generate URLs for routes based on their endpoint names (the name of the function associated with the route). This is useful because it allows you to change URLs without having to update them in all your templates and code, promoting maintainability.\n",
    "\"\"\"\n",
    "from flask import url_for\n",
    "\n",
    "@app.route('/user/<username>')\n",
    "def user_profile(username):\n",
    "    return f'Profile for user: {username}'\n",
    "\n",
    "with app.test_request_context():\n",
    "    profile_url = url_for('user_profile', username='johndoe')\n",
    "    print(profile_url)  # Output: /user/johndoe"
   ]
  },
  {
   "cell_type": "code",
   "execution_count": null,
   "id": "5549adbc",
   "metadata": {},
   "outputs": [],
   "source": [
    "# 17. How does Flask handle static files (CSS, JavaScript, etc.)?\n",
    "\"\"\"\n",
    "Flask serves static files (like CSS, JavaScript, and images) from a directory named `static` in the same directory as your main application file (or a directory specified by the `static_folder` argument when creating the Flask app instance). Flask automatically creates a route `/static/<filename>` to serve these files. You can use `url_for('static', filename='style.css')` in your templates to generate the correct URL for static files.\n",
    "\"\"\""
   ]
  },
  {
   "cell_type": "code",
   "execution_count": null,
   "id": "01067056",
   "metadata": {},
   "outputs": [],
   "source": [
    "# 18. What is an API specification, and how does it help in building a Flask API?\n",
    "\"\"\"\n",
    "(Answered in question 2) An API specification (e.g., OpenAPI) is a document that describes the API's endpoints, request and response formats, authentication methods, etc. It helps in building a Flask API by:\n",
    "- Providing a clear contract for developers.\n",
    "- Facilitating communication between frontend and backend teams.\n",
    "- Enabling automatic generation of documentation and client libraries.\n",
    "- Supporting API testing and validation.\n",
    "\"\"\""
   ]
  },
  {
   "cell_type": "code",
   "execution_count": null,
   "id": "b9f19829",
   "metadata": {},
   "outputs": [],
   "source": [
    "# 19. What are HTTP status codes, and why are they important in a Flask API?\n",
    "\"\"\"\n",
    "HTTP status codes are three-digit numbers that indicate the outcome of an HTTP request. They are important in a Flask API because they allow the server to communicate the status of the request to the client in a standardized way. This helps the client understand if the request was successful, if there was an error, or if further action is needed. Common examples include 200 OK, 201 Created, 400 Bad Request, 404 Not Found, and 500 Internal Server Error.\n",
    "\"\"\"\n",
    "from flask import jsonify\n",
    "\n",
    "@app.route('/resource', methods=['POST'])\n",
    "def create_resource():\n",
    "    # Logic to create a resource\n",
    "    resource_id = 123\n",
    "    return jsonify({'id': resource_id}), 201  # Return 201 Created on successful creation\n",
    "\n",
    "@app.route('/resource/<int:resource_id>', methods=['GET'])\n",
    "def get_resource(resource_id):\n",
    "    resource = {'id': resource_id, 'data': 'some data'}\n",
    "    if resource:\n",
    "        return jsonify(resource), 200  # Return 200 OK if found\n",
    "    else:\n",
    "        return jsonify({'error': 'Resource not found'}), 404"
   ]
  },
  {
   "cell_type": "code",
   "execution_count": null,
   "id": "f506726c",
   "metadata": {},
   "outputs": [],
   "source": [
    "# 20. How do you handle POST requests in Flask?\n",
    "\"\"\"\n",
    "You handle POST requests in Flask by defining a route that accepts the POST method and then accessing the data sent in the request body using the `request` object. The data can be in various formats, such as form data (`request.form`), JSON (`request.get_json()`), or raw data (`request.data`).\n",
    "\"\"\"\n",
    "from flask import request, jsonify\n",
    "\n",
    "@app.route('/submit', methods=['POST'])\n",
    "def submit():\n",
    "    if request.is_json:\n",
    "        data = request.get_json()\n",
    "        # Process JSON data\n",
    "        return jsonify({'message': 'JSON data received', 'data': data}), 200\n",
    "    else:\n",
    "        data = request.form\n",
    "        # Process form data\n",
    "        return jsonify({'message': 'Form data received', 'data': dict(data)}), 200"
   ]
  },
  {
   "cell_type": "code",
   "execution_count": null,
   "id": "e97ebd32",
   "metadata": {},
   "outputs": [],
   "source": [
    "# 21. How would you secure a Flask API?\n",
    "\"\"\"\n",
    "Securing a Flask API involves several measures, including:\n",
    "- Implementing authentication (e.g., token-based authentication like JWT).\n",
    "- Using HTTPS to encrypt communication.\n",
    "- Validating and sanitizing user inputs to prevent injection attacks.\n",
    "- Protecting against Cross-Site Request Forgery (CSRF) if handling web forms.\n",
    "- Rate limiting to prevent abuse.\n",
    "- Keeping dependencies up to date.\n",
    "\"\"\""
   ]
  },
  {
   "cell_type": "code",
   "execution_count": null,
   "id": "cfe21c97",
   "metadata": {},
   "outputs": [],
   "source": [
    "# 22. What is the significance of the Flask-RESTful extension?\n",
    "\"\"\"\n",
    "Flask-RESTful is a Flask extension that simplifies building RESTful APIs. It provides a structured \n",
    "way to define API resources using classes, handle request parsing, and format responses. It helps \n",
    "in creating consistent and well-organized APIs with less boilerplate code.\n",
    "\"\"\""
   ]
  },
  {
   "cell_type": "code",
   "execution_count": null,
   "id": "3c7026dc",
   "metadata": {},
   "outputs": [],
   "source": [
    "# 23. What is the role of Flask's session object?\n",
    "\"\"\"\n",
    "Flask's `session` object is a dictionary-like object that allows you to store information \n",
    "related to a specific user session across multiple requests. It uses signed cookies on the\n",
    " client-side to securely store and retrieve this data. It's useful for implementing features like\n",
    " user logins, shopping carts, and temporary user-specific data. Remember that data stored \n",
    " in the session is visible to the client (though signed to prevent tampering), so sensitive \n",
    " information should not be stored directly.\n",
    "\"\"\"\n"
   ]
  },
  {
   "cell_type": "markdown",
   "id": "06a86f68",
   "metadata": {},
   "source": [
    "##Practicle"
   ]
  },
  {
   "cell_type": "code",
   "execution_count": null,
   "id": "f6004b69",
   "metadata": {},
   "outputs": [],
   "source": [
    "\n",
    "# 1. How do you create a basic Flask application?\n",
    "\n",
    "from flask import Flask\n",
    "\n",
    "app = Flask(__name__)\n",
    "\n",
    "@app.route('/')\n",
    "def hello_world():\n",
    "    return 'Hello, World!'\n",
    "\n",
    "if __name__ == '__main__':\n",
    "    app.run(debug=True)"
   ]
  },
  {
   "cell_type": "code",
   "execution_count": null,
   "id": "b2a9ccfb",
   "metadata": {},
   "outputs": [],
   "source": [
    "# 3. How do you define different routes with different HTTP methods in Flask?\n",
    "from flask import Flask, jsonify, request\n",
    "\n",
    "app = Flask(__name__)\n",
    "\n",
    "@app.route('/data', methods=['GET'])\n",
    "def get_data():\n",
    "    return jsonify({'message': 'Data retrieved'})\n",
    "\n",
    "@app.route('/data', methods=['POST'])\n",
    "def post_data():\n",
    "    data = request.get_json()\n",
    "    return jsonify({'message': 'Data created', 'received': data}), 201\n",
    "\n",
    "@app.route('/data/<int:item_id>', methods=['PUT'])\n",
    "def update_data(item_id):\n",
    "    data = request.get_json()\n",
    "    return jsonify({'message': f'Data updated for item {item_id}', 'updated': data})\n",
    "\n",
    "@app.route('/data/<int:item_id>', methods=['DELETE'])\n",
    "def delete_data(item_id):\n",
    "    return jsonify({'message': f'Data deleted for item {item_id}'}), 204\n",
    "\n",
    "if __name__ == '__main__':\n",
    "    app.run(debug=True)"
   ]
  },
  {
   "cell_type": "code",
   "execution_count": null,
   "id": "be14f5aa",
   "metadata": {},
   "outputs": [],
   "source": [
    "# 4. How do you render HTML templates in Flask?\n",
    "\n",
    "from flask import render_template\n",
    "\n",
    "@app.route('/welcome/<name>')\n",
    "def welcome(name):\n",
    "    return render_template('welcome.html', user_name=name)\n",
    "\n"
   ]
  },
  {
   "cell_type": "code",
   "execution_count": null,
   "id": "875bb7ba",
   "metadata": {},
   "outputs": [],
   "source": [
    "# 5. How can you generate URLs for routes in Flask using `url_for()`?\n",
    "from flask import url_for\n",
    "\n",
    "@app.route('/user/<username>')\n",
    "def profile(username):\n",
    "    return f'Profile: {username}'\n",
    "\n",
    "with app.test_request_context():\n",
    "    profile_url = url_for('profile', username='johndoe')\n",
    "    print(profile_url)  # Output: /user/johndoe"
   ]
  },
  {
   "cell_type": "code",
   "execution_count": null,
   "id": "1e6a5ed5",
   "metadata": {},
   "outputs": [],
   "source": [
    "# 6. How do you handle forms in Flask?\n",
    "from flask import request, render_template\n",
    "\n",
    "@app.route('/submit_form', methods=['GET', 'POST'])\n",
    "def submit_form():\n",
    "    if request.method == 'POST':\n",
    "        name = request.form['name']\n",
    "        email = request.form['email']\n",
    "        return f'You submitted: Name={name}, Email={email}'\n",
    "    return render_template('form.html')\n",
    "\n"
   ]
  },
  {
   "cell_type": "code",
   "execution_count": null,
   "id": "153defaf",
   "metadata": {},
   "outputs": [],
   "source": [
    "# 7. How can you validate form data in Flask?\n",
    "from flask_wtf import FlaskForm\n",
    "from wtforms import StringField, SubmitField, EmailField\n",
    "from wtforms.validators import DataRequired, Email\n",
    "\n",
    "class MyForm(FlaskForm):\n",
    "    name = StringField('Name', validators=[DataRequired()])\n",
    "    email = EmailField('Email', validators=[DataRequired(), Email()])\n",
    "    submit = SubmitField('Submit')\n",
    "\n",
    "@app.route('/validate_form', methods=['GET', 'POST'])\n",
    "def validate_form():\n",
    "    form = MyForm()\n",
    "    if form.validate_on_submit():\n",
    "        name = form.name.data\n",
    "        email = form.email.data\n",
    "        return f'Valid data: Name={name}, Email={email}'\n",
    "    return render_template('validate_form.html', form=form)\n"
   ]
  },
  {
   "cell_type": "code",
   "execution_count": null,
   "id": "152a4abe",
   "metadata": {},
   "outputs": [],
   "source": [
    "# 8. How do you manage sessions in Flask?\n",
    "from flask import session, redirect, url_for\n",
    "\n",
    "@app.route('/login', methods=['POST'])\n",
    "def login():\n",
    "    username = request.form['username']\n",
    "    session['username'] = username\n",
    "    return redirect(url_for('profile'))\n",
    "\n",
    "@app.route('/logout')\n",
    "def logout():\n",
    "    session.pop('username', None)\n",
    "    return redirect(url_for('home'))\n",
    "\n",
    "@app.route('/profile')\n",
    "def profile():\n",
    "    if 'username' in session:\n",
    "        username = session['username']\n",
    "        return f'Profile page: {username}'\n",
    "    return redirect(url_for('login'))"
   ]
  },
  {
   "cell_type": "code",
   "execution_count": null,
   "id": "fbf9eac9",
   "metadata": {},
   "outputs": [],
   "source": [
    "# 9. How do you redirect to a different route in Flask?\n",
    "from flask import redirect, url_for\n",
    "\n",
    "@app.route('/old_path')\n",
    "def old_path():\n",
    "    return redirect(url_for('new_path'))\n",
    "\n",
    "@app.route('/new_path')\n",
    "def new_path():\n",
    "    return 'This is the new path!'"
   ]
  },
  {
   "cell_type": "code",
   "execution_count": null,
   "id": "e7c29fff",
   "metadata": {},
   "outputs": [],
   "source": [
    "# 10. How do you handle errors in Flask (e.g., 404)?\n",
    "from flask import abort, jsonify\n",
    "\n",
    "@app.errorhandler(404)\n",
    "def not_found(error):\n",
    "    return jsonify({'error': 'Not found'}), 404\n",
    "\n",
    "@app.route('/trigger_404')\n",
    "def trigger_404():\n",
    "    abort(404)"
   ]
  },
  {
   "cell_type": "code",
   "execution_count": null,
   "id": "36fd421f",
   "metadata": {},
   "outputs": [],
   "source": [
    "# 12. How do you define a custom Jinja filter in Flask?\n",
    "from flask import Flask\n",
    "\n",
    "app = Flask(__name__)\n",
    "\n",
    "@app.template_filter('reverse')\n",
    "def reverse_string(s):\n",
    "    return s[::-1]\n",
    "\n",
    "@app.route('/filter/<text>')\n",
    "def use_filter(text):\n",
    "    return f\"Original text: {text}<br>Reversed text: {{ '{0}|reverse'.format(text) }}\"\n",
    "\n",
    "if __name__ == '__main__':\n",
    "    app.run(debug=True)"
   ]
  },
  {
   "cell_type": "code",
   "execution_count": null,
   "id": "8c6e90f8",
   "metadata": {},
   "outputs": [],
   "source": [
    "# 13. How can you redirect with query parameters in Flask?\n",
    "from flask import redirect, url_for, request\n",
    "\n",
    "@app.route('/redirect_with_query')\n",
    "def redirect_with_query():\n",
    "    return redirect(url_for('show_query', param1='value1', param2='value2'))\n",
    "\n",
    "@app.route('/show_query')\n",
    "def show_query():\n",
    "    param1 = request.args.get('param1')\n",
    "    param2 = request.args.get('param2')\n",
    "    return f'Received parameters: param1={param1}, param2={param2}'"
   ]
  },
  {
   "cell_type": "code",
   "execution_count": null,
   "id": "6967363b",
   "metadata": {},
   "outputs": [],
   "source": [
    "# 14. How do you return JSON responses in Flask?\n",
    "from flask import jsonify\n",
    "\n",
    "@app.route('/api/data')\n",
    "def get_api_data():\n",
    "    data = {'message': 'This is a JSON response', 'number': 123}\n",
    "    return jsonify(data)"
   ]
  },
  {
   "cell_type": "code",
   "execution_count": null,
   "id": "69f95138",
   "metadata": {},
   "outputs": [],
   "source": [
    "# 15. How do you capture URL parameters in Flask?\n",
    "from flask import request\n",
    "\n",
    "@app.route('/users/<int:user_id>')\n",
    "def get_user(user_id):\n",
    "    return f'User ID: {user_id}'\n",
    "\n",
    "@app.route('/items/<string:item_name>')\n",
    "def get_item(item_name):\n",
    "    category = request.args.get('category')\n",
    "    if category:\n",
    "        return f'Item: {item_name}, Category: {category}'\n",
    "    return f'Item: {item_name}'"
   ]
  }
 ],
 "metadata": {
  "language_info": {
   "name": "python"
  }
 },
 "nbformat": 4,
 "nbformat_minor": 5
}
